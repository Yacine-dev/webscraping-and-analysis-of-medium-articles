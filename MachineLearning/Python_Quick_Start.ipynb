{
  "nbformat": 4,
  "nbformat_minor": 0,
  "metadata": {
    "colab": {
      "name": "Python Quick Start.ipynb",
      "provenance": [],
      "collapsed_sections": [],
      "include_colab_link": true
    },
    "kernelspec": {
      "display_name": "Python 3",
      "language": "python",
      "name": "python3"
    },
    "language_info": {
      "codemirror_mode": {
        "name": "ipython",
        "version": 3
      },
      "file_extension": ".py",
      "mimetype": "text/x-python",
      "name": "python",
      "nbconvert_exporter": "python",
      "pygments_lexer": "ipython3",
      "version": "3.6.8"
    }
  },
  "cells": [
    {
      "cell_type": "markdown",
      "metadata": {
        "id": "view-in-github",
        "colab_type": "text"
      },
      "source": [
        "<a href=\"https://colab.research.google.com/github/Yacine-dev/webscraping-and-analysis-of-medium-articles/blob/master/MachineLearning/Python_Quick_Start.ipynb\" target=\"_parent\"><img src=\"https://colab.research.google.com/assets/colab-badge.svg\" alt=\"Open In Colab\"/></a>"
      ]
    },
    {
      "cell_type": "markdown",
      "metadata": {
        "id": "2EQ3aMz5KrjT"
      },
      "source": [
        "# Python Quick Start\n",
        "\n",
        "Python is a popular programming language used for many applications. Interestingly, it is widely used for machine learning. This is due in part to it's simple syntax, interactive nature, and numerous machine learning libraries. It's easy to quickly test things out, which is important during data analysis or model development.\n",
        "\n",
        "We will focus on Python 3 here."
      ]
    },
    {
      "cell_type": "markdown",
      "metadata": {
        "id": "HHHYgpbFL4-N"
      },
      "source": [
        "## Basic Syntax\n",
        "\n",
        "[Data types](https://docs.python.org/3.4/reference/datamodel.html), [operators](https://docs.python.org/3.4/library/operator.html), and variables. Python is interactive, so we can try things out by just entering code and running it in this notebook."
      ]
    },
    {
      "cell_type": "code",
      "metadata": {
        "id": "e8wn727POHDT"
      },
      "source": [
        "# Numbers, e.g. int, float, bool, complex\n",
        "\n",
        "11"
      ],
      "execution_count": null,
      "outputs": []
    },
    {
      "cell_type": "code",
      "metadata": {
        "id": "RPm4AG4kbEw0"
      },
      "source": [
        "3.1415926535897"
      ],
      "execution_count": null,
      "outputs": []
    },
    {
      "cell_type": "code",
      "metadata": {
        "id": "bE7teAo0bIPE"
      },
      "source": [
        "True"
      ],
      "execution_count": null,
      "outputs": []
    },
    {
      "cell_type": "code",
      "metadata": {
        "id": "qGOImoA2bKHa"
      },
      "source": [
        "# Complex or imaginary numbers\n",
        "\n",
        "1+2j"
      ],
      "execution_count": null,
      "outputs": []
    },
    {
      "cell_type": "code",
      "metadata": {
        "id": "IzEjfhsSG5MP"
      },
      "source": [
        "# None is similar to null on other languages\n",
        "\n",
        "a = None\n",
        "print(a)"
      ],
      "execution_count": null,
      "outputs": []
    },
    {
      "cell_type": "code",
      "metadata": {
        "id": "3bGPFjxJUjla"
      },
      "source": [
        "# type() can tell us the type of a variable\n",
        "\n",
        "a = 12.0\n",
        "type(a)"
      ],
      "execution_count": null,
      "outputs": []
    },
    {
      "cell_type": "code",
      "metadata": {
        "id": "6J9HxRECRiDi"
      },
      "source": [
        "# Strings can be defined with single or double quotes\n",
        "\n",
        "'This is a string'"
      ],
      "execution_count": null,
      "outputs": []
    },
    {
      "cell_type": "code",
      "metadata": {
        "id": "6iel--V5Rod7"
      },
      "source": [
        "\"This is also a string\""
      ],
      "execution_count": null,
      "outputs": []
    },
    {
      "cell_type": "code",
      "metadata": {
        "id": "DkCP-uPTRsO4"
      },
      "source": [
        "# Get the length of a string\n",
        "\n",
        "len('some string')"
      ],
      "execution_count": null,
      "outputs": []
    },
    {
      "cell_type": "code",
      "metadata": {
        "id": "vGnLAm1OR1L6"
      },
      "source": [
        "# Select a character within a string\n",
        "\n",
        "a = 'some string'\n",
        "a[0]"
      ],
      "execution_count": null,
      "outputs": []
    },
    {
      "cell_type": "code",
      "metadata": {
        "id": "OwtwX0K6SgVz"
      },
      "source": [
        "# Python checks array bounds\n",
        "\n",
        "a = 'some string'\n",
        "# a[20]"
      ],
      "execution_count": null,
      "outputs": []
    },
    {
      "cell_type": "code",
      "metadata": {
        "id": "xKZ3jhLISNzA"
      },
      "source": [
        "# Negative indexes select from the end\n",
        "\n",
        "a = 'some string'\n",
        "a[-1]"
      ],
      "execution_count": null,
      "outputs": []
    },
    {
      "cell_type": "code",
      "metadata": {
        "id": "Osb-GVD7SBHh"
      },
      "source": [
        "# Select a range of characters, uses a left closed, right open interval\n",
        "\n",
        "a = 'some string'\n",
        "a[0:5]"
      ],
      "execution_count": null,
      "outputs": []
    },
    {
      "cell_type": "code",
      "metadata": {
        "id": "14ciHg-BSava"
      },
      "source": [
        "# Negative index work with ranges also\n",
        "\n",
        "a = 'some string'\n",
        "a[5:-2]"
      ],
      "execution_count": null,
      "outputs": []
    },
    {
      "cell_type": "markdown",
      "metadata": {
        "id": "Kd3FLpHXaT2N"
      },
      "source": [
        "### String formatting\n",
        "\n",
        "Python supports multiple styles of string formatting:\n",
        "\n",
        "\n",
        "*   [printf](https://docs.python.org/3/library/stdtypes.html#printf-style-string-formatting)\n",
        "*   [format()](https://docs.python.org/3.4/library/string.html#formatspec)\n",
        "\n"
      ]
    },
    {
      "cell_type": "code",
      "metadata": {
        "id": "AVtaLbChTXc2"
      },
      "source": [
        "# printf style formatting\n",
        "\n",
        "answer = 42\n",
        "'The answer to the ultimate question of life, the universe, and everything is %d' % answer"
      ],
      "execution_count": null,
      "outputs": []
    },
    {
      "cell_type": "code",
      "metadata": {
        "id": "HXIQEyqlOdZo"
      },
      "source": [
        "# multiple values\n",
        "\n",
        "length = 8.0\n",
        "width = 4.0\n",
        "'The dimensions are %.2f feet long and %.2f feet wide' % (length, width)"
      ],
      "execution_count": null,
      "outputs": []
    },
    {
      "cell_type": "code",
      "metadata": {
        "id": "BTrh_zePOdZr"
      },
      "source": [
        "# format(...) method\n",
        "\n",
        "answer = 42\n",
        "'The answer to the ultimate question of life, the universe, and everything is {0:d}'.format(answer)"
      ],
      "execution_count": null,
      "outputs": []
    },
    {
      "cell_type": "code",
      "metadata": {
        "id": "X655w5CTOdZu"
      },
      "source": [
        "# named values\n",
        "\n",
        "length = 8.0\n",
        "width = 4.0\n",
        "'The dimensions are {length:.2f} feet long and {width:.2f} feet wide'.format(width=width, length=length)"
      ],
      "execution_count": null,
      "outputs": []
    },
    {
      "cell_type": "markdown",
      "metadata": {
        "id": "5m4XM7qjWfJo"
      },
      "source": [
        "### Type Conversion"
      ]
    },
    {
      "cell_type": "code",
      "metadata": {
        "id": "JMzoX-ipWkcA"
      },
      "source": [
        "pi = 3.1415926535897\n",
        "type(pi)"
      ],
      "execution_count": null,
      "outputs": []
    },
    {
      "cell_type": "code",
      "metadata": {
        "id": "0BBZv2o4Wu6g"
      },
      "source": [
        "int(pi)"
      ],
      "execution_count": null,
      "outputs": []
    },
    {
      "cell_type": "code",
      "metadata": {
        "id": "FzbZ1NQ4W-Xg"
      },
      "source": [
        "complex(pi)"
      ],
      "execution_count": null,
      "outputs": []
    },
    {
      "cell_type": "code",
      "metadata": {
        "id": "4avOgb6iWxrx"
      },
      "source": [
        "int('42')"
      ],
      "execution_count": null,
      "outputs": []
    },
    {
      "cell_type": "code",
      "metadata": {
        "id": "bSgBvoNeW3hJ"
      },
      "source": [
        "str(42)"
      ],
      "execution_count": null,
      "outputs": []
    },
    {
      "cell_type": "code",
      "metadata": {
        "id": "epmKkhMIGo8I"
      },
      "source": [
        "bool(0)"
      ],
      "execution_count": null,
      "outputs": []
    },
    {
      "cell_type": "markdown",
      "metadata": {
        "id": "Av8B7Ey9OdaG"
      },
      "source": [
        "## Flow Control\n",
        "\n",
        "Spaces or tabs are used to group statements together. Unlike many languages today, whitespace is significant in Python."
      ]
    },
    {
      "cell_type": "code",
      "metadata": {
        "id": "ZyKX-VWCOdaH"
      },
      "source": [
        "for i in range(5):\n",
        "    print('%d, squared: %d' % (i, i*i))"
      ],
      "execution_count": null,
      "outputs": []
    },
    {
      "cell_type": "code",
      "metadata": {
        "id": "9sKShp7lOdaK"
      },
      "source": [
        "i = 0\n",
        "while i < 5:\n",
        "    print('%d, squared: %d' % (i, i*i))\n",
        "    i = i + 1"
      ],
      "execution_count": null,
      "outputs": []
    },
    {
      "cell_type": "code",
      "metadata": {
        "id": "phaIDQ3mOdaO"
      },
      "source": [
        "for i in range(1, 10):\n",
        "    if i % 2 == 0:\n",
        "        print('%d is divisible by two' % (i))\n",
        "    elif i % 3 == 0:\n",
        "        print('%d is divisible by three' % (i))\n",
        "    else:\n",
        "        print('%d is not divisible by two or three' % (i))"
      ],
      "execution_count": null,
      "outputs": []
    },
    {
      "cell_type": "markdown",
      "metadata": {
        "id": "MiNZ8-THMGaQ"
      },
      "source": [
        "## Data Structures\n",
        "\n",
        "### Lists\n",
        "\n",
        "Lists contain any number of ordered values."
      ]
    },
    {
      "cell_type": "code",
      "metadata": {
        "id": "n6zfxlBYQwqc"
      },
      "source": [
        "[1, 2, 3]"
      ],
      "execution_count": null,
      "outputs": []
    },
    {
      "cell_type": "code",
      "metadata": {
        "id": "wgIvI40zQ2iJ"
      },
      "source": [
        "a = [1, 2, 3]\n",
        "len(a)"
      ],
      "execution_count": null,
      "outputs": []
    },
    {
      "cell_type": "code",
      "metadata": {
        "id": "fAjrQmfhOdaY"
      },
      "source": [
        "# Iterate through a list\n",
        "\n",
        "for value in a:\n",
        "    print('Value is %d' % value)"
      ],
      "execution_count": null,
      "outputs": []
    },
    {
      "cell_type": "code",
      "metadata": {
        "id": "kTqh4YV0Odac"
      },
      "source": [
        "a = [1, 2, 3]\n",
        "a.append(4)\n",
        "a"
      ],
      "execution_count": null,
      "outputs": []
    },
    {
      "cell_type": "code",
      "metadata": {
        "id": "33i5smW9HadB"
      },
      "source": [
        "# Add two lists\n",
        "\n",
        "a = [1, 2, 3]\n",
        "b = [7, 8, 9]\n",
        "\n",
        "a+b"
      ],
      "execution_count": null,
      "outputs": []
    },
    {
      "cell_type": "code",
      "metadata": {
        "id": "sN4Oe48mHkkw"
      },
      "source": [
        "# List comprehension\n",
        "\n",
        "a = [2*i for i in range(10)]\n",
        "a"
      ],
      "execution_count": null,
      "outputs": []
    },
    {
      "cell_type": "code",
      "metadata": {
        "id": "4C1d30LxHsK4"
      },
      "source": [
        "# Reverse a list\n",
        "\n",
        "a = [2*i for i in range(10)]\n",
        "a.reverse()\n",
        "a"
      ],
      "execution_count": null,
      "outputs": []
    },
    {
      "cell_type": "code",
      "metadata": {
        "id": "SSERRxx8Ic4c"
      },
      "source": [
        "a.sort()\n",
        "a"
      ],
      "execution_count": null,
      "outputs": []
    },
    {
      "cell_type": "markdown",
      "metadata": {
        "id": "u2zTy32qOdan"
      },
      "source": [
        "### Dictionaries\n",
        "\n",
        "Dictionaries contain key-value pairs. Similar to Java HashMap."
      ]
    },
    {
      "cell_type": "code",
      "metadata": {
        "id": "8Y4oliInOdao"
      },
      "source": [
        "band = { 'David St. Hubbins':'Rhythm Guitar', 'Nigel Tufnel':'Lead Guitar', 'Derek Smalls':'Bass', 'Drums':'Unknown' }\n",
        "band"
      ],
      "execution_count": null,
      "outputs": []
    },
    {
      "cell_type": "code",
      "metadata": {
        "id": "IORW-goeOdas"
      },
      "source": [
        "for name in band:\n",
        "    print('Name: %s, instrument: %s' % (name, band[name]))"
      ],
      "execution_count": null,
      "outputs": []
    },
    {
      "cell_type": "code",
      "metadata": {
        "id": "1i1Pw19LOdau"
      },
      "source": [
        "for name, instrument in band.items():\n",
        "    print('Name: %s, instrument: %s' % (name, instrument))"
      ],
      "execution_count": null,
      "outputs": []
    },
    {
      "cell_type": "code",
      "metadata": {
        "id": "HnKlRgxaOdaw"
      },
      "source": [
        "band['Drums'] = 'John \"Stumpy\" Pepys'\n",
        "\n",
        "for name in band:\n",
        "    print('Name: %s, instrument: %s' % (name, band[name]))"
      ],
      "execution_count": null,
      "outputs": []
    },
    {
      "cell_type": "markdown",
      "metadata": {
        "id": "zH7zPFeoMCU6"
      },
      "source": [
        "## Functions and Methods\n",
        "\n",
        "Functions and methods are similar, but differ slightly."
      ]
    },
    {
      "cell_type": "code",
      "metadata": {
        "id": "2BS31fldUKDz"
      },
      "source": [
        "# len() is a method\n",
        "\n",
        "a = 'some string'\n",
        "len(a)"
      ],
      "execution_count": null,
      "outputs": []
    },
    {
      "cell_type": "code",
      "metadata": {
        "id": "bL_N3deVUQWK"
      },
      "source": [
        "# upper() is a method\n",
        "\n",
        "a = 'some string'\n",
        "a.upper()"
      ],
      "execution_count": null,
      "outputs": []
    },
    {
      "cell_type": "code",
      "metadata": {
        "id": "e2ps7j1TUe4Z"
      },
      "source": [
        "# dir() lists attributes and methods of an object\n",
        "\n",
        "a = 'some string'\n",
        "dir(a)"
      ],
      "execution_count": null,
      "outputs": []
    },
    {
      "cell_type": "code",
      "metadata": {
        "id": "pVXM5ZACVhnT"
      },
      "source": [
        "# Use def to define a function\n",
        "\n",
        "def average(array):\n",
        "  n = len(array)\n",
        "  total = 0.0\n",
        "  for a in array:\n",
        "    total = total + a\n",
        "  return total / n\n",
        "\n",
        "average([1, 2, 3])"
      ],
      "execution_count": null,
      "outputs": []
    },
    {
      "cell_type": "code",
      "metadata": {
        "id": "bSC0VjeDXNXY"
      },
      "source": [
        "# Functions can return tuples\n",
        "\n",
        "def statistics(array):\n",
        "  avg = average(array)\n",
        "  n = len(array)\n",
        "  total = 0.0\n",
        "  for a in array:\n",
        "    variance = a - avg\n",
        "    total += variance ** 2\n",
        "  stddev = total / n\n",
        "  return (avg, stddev)\n",
        "\n",
        "statistics([1, 2, 3])"
      ],
      "execution_count": null,
      "outputs": []
    },
    {
      "cell_type": "code",
      "metadata": {
        "id": "6NbDMklxX-hs"
      },
      "source": [
        "# Assign to a tuple\n",
        "\n",
        "(avg, stddev) = statistics([1, 2, 3])\n",
        "print('The average is %.2f and the standard deviation is %.2f' % (avg, stddev))"
      ],
      "execution_count": null,
      "outputs": []
    },
    {
      "cell_type": "markdown",
      "metadata": {
        "id": "6D7CKgOPQSzF"
      },
      "source": [
        "## Classes\n",
        "\n",
        "Use the class keyword to define classses."
      ]
    },
    {
      "cell_type": "code",
      "metadata": {
        "id": "9ztIx4IjKqvW"
      },
      "source": [
        "class BankAccount(object):\n",
        "  def __init__(self, accountNumber, initialBalance, interestRate):\n",
        "    self.accountNumber = accountNumber\n",
        "    self.balance = initialBalance\n",
        "    self.interestRate = interestRate\n",
        "  \n",
        "  def deposit(self, amount):\n",
        "    self.balance += amount\n",
        "  \n",
        "  def withdraw(self, amount):\n",
        "    if self.balance >= amount:\n",
        "      self.balance -= amount\n",
        "      return amount\n",
        "    raise Exception('Insufficient balance for withdrawal: only %.2f in account %d' % (self.balance, self.accountNumber))\n",
        "  \n",
        "  def addInterest(self):\n",
        "    self.balance *= 1.0 + self.interestRate/100.0\n",
        "  \n",
        "  def transferTo(self, otherAccount, amount):\n",
        "    otherAccount.deposit(self.withdraw(amount))\n",
        "  \n",
        "  def __str__(self):\n",
        "    return 'Account %d, balance: %.2f' % (self.accountNumber, self.balance)"
      ],
      "execution_count": null,
      "outputs": []
    },
    {
      "cell_type": "code",
      "metadata": {
        "id": "RR7vPMAtDh-7"
      },
      "source": [
        "checking = BankAccount(101, 100.0, 1.0)\n",
        "savings = BankAccount(201, 1000.0, 5.0)\n",
        "\n",
        "print(checking)\n",
        "print(savings)\n",
        "checking.addInterest()\n",
        "savings.addInterest()\n",
        "\n",
        "savings.transferTo(checking, 500)\n",
        "\n",
        "print(checking)\n",
        "print(savings)\n",
        "\n",
        "# savings.transferTo(checking, 1000)"
      ],
      "execution_count": null,
      "outputs": []
    },
    {
      "cell_type": "markdown",
      "metadata": {
        "id": "URDoWEMQJEdg"
      },
      "source": [
        "## Reading and Writing files"
      ]
    },
    {
      "cell_type": "code",
      "metadata": {
        "id": "A_v0ZAX6JIwf"
      },
      "source": [
        "# Write a file, 'w' opens a file for writing, 'a' appends to an existing file\n",
        "\n",
        "with open('somefile.txt', 'w') as f:\n",
        "  f.write('First line\\n')\n",
        "  f.write('Second line\\n')"
      ],
      "execution_count": null,
      "outputs": []
    },
    {
      "cell_type": "code",
      "metadata": {
        "id": "jx3mqmASJt_X"
      },
      "source": [
        "# strip() removes the trailing \\n\n",
        "\n",
        "with open('somefile.txt') as f:\n",
        "  print(f.readline().strip())"
      ],
      "execution_count": null,
      "outputs": []
    },
    {
      "cell_type": "code",
      "metadata": {
        "id": "k2lTneQUKRfD"
      },
      "source": [
        "with open('somefile.txt') as f:\n",
        "  print(f.readlines())"
      ],
      "execution_count": null,
      "outputs": []
    },
    {
      "cell_type": "markdown",
      "metadata": {
        "id": "cxv30sH9bm4N"
      },
      "source": [
        "## Modules\n",
        "\n",
        "[import](https://docs.python.org/3/reference/simple_stmts.html#import) can be used to refer to modules."
      ]
    },
    {
      "cell_type": "code",
      "metadata": {
        "id": "pYjERSx-bmQJ"
      },
      "source": [
        "import matplotlib.pyplot as plt\n",
        "import math\n",
        "\n",
        "x = [0.1*i for i in range(64)]\n",
        "sin = [math.sin(i) for i in x]\n",
        "cos = [math.cos(i) for i in x]\n",
        "\n",
        "plt.plot(x, sin, label='sin(x)', color='blue', linewidth=2.5)\n",
        "plt.plot(x, cos, label='cos(x)', color='red', linewidth=0.5)\n",
        "plt.ylabel('y')\n",
        "plt.xlabel('x')\n",
        "plt.legend(loc='upper right')\n",
        "plt.show()"
      ],
      "execution_count": null,
      "outputs": []
    },
    {
      "cell_type": "code",
      "metadata": {
        "id": "wRMSiSwWOdbk"
      },
      "source": [
        ""
      ],
      "execution_count": null,
      "outputs": []
    }
  ]
}